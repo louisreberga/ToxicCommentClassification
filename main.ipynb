{
 "cells": [
  {
   "cell_type": "code",
   "execution_count": 1,
   "id": "8e15c086",
   "metadata": {},
   "outputs": [],
   "source": [
    "import os\n",
    "os.environ['TF_CPP_MIN_LOG_LEVEL'] = '3' \n",
    "import warnings\n",
    "warnings.simplefilter(action='ignore')\n",
    "\n",
    "import preprocessing, utils"
   ]
  },
  {
   "cell_type": "code",
   "execution_count": 2,
   "id": "d0735b92",
   "metadata": {},
   "outputs": [],
   "source": [
    "# X_train, y_train, X_test, y_test, tokenizer = preprocessing.preprocess_comments()\n",
    "\n",
    "X_train, y_train, X_test, y_test, tokenizer = preprocessing.read_preprocessed_comments()\n",
    "emb_matrix = utils.create_embedding_matrix(tokenizer)"
   ]
  },
  {
   "cell_type": "code",
   "execution_count": 3,
   "id": "f7b1de46",
   "metadata": {
    "scrolled": false
   },
   "outputs": [
    {
     "name": "stdout",
     "output_type": "stream",
     "text": [
      "Model: \"sequential\"\n",
      "_________________________________________________________________\n",
      " Layer (type)                Output Shape              Param #   \n",
      "=================================================================\n",
      " embedding (Embedding)       (None, 400, 100)          16971700  \n",
      "                                                                 \n",
      " lstm (LSTM)                 (None, 400, 60)           38640     \n",
      "                                                                 \n",
      " global_max_pooling1d (Globa  (None, 60)               0         \n",
      " lMaxPooling1D)                                                  \n",
      "                                                                 \n",
      " dropout (Dropout)           (None, 60)                0         \n",
      "                                                                 \n",
      " dense (Dense)               (None, 50)                3050      \n",
      "                                                                 \n",
      " dropout_1 (Dropout)         (None, 50)                0         \n",
      "                                                                 \n",
      " dense_1 (Dense)             (None, 6)                 306       \n",
      "                                                                 \n",
      "=================================================================\n",
      "Total params: 17,013,696\n",
      "Trainable params: 41,996\n",
      "Non-trainable params: 16,971,700\n",
      "_________________________________________________________________\n"
     ]
    }
   ],
   "source": [
    "model = utils.define_model(emb_matrix)\n",
    "model.summary()"
   ]
  },
  {
   "cell_type": "code",
   "execution_count": 4,
   "id": "ef6a2c39",
   "metadata": {},
   "outputs": [
    {
     "name": "stdout",
     "output_type": "stream",
     "text": [
      "Epoch 1/5\n",
      "2244/2244 [==============================] - 318s 141ms/step - loss: 0.0693 - auc: 0.9611 - val_loss: 0.0567 - val_auc: 0.9756\n",
      "Epoch 2/5\n",
      "2244/2244 [==============================] - 319s 142ms/step - loss: 0.0526 - auc: 0.9785 - val_loss: 0.0518 - val_auc: 0.9810\n",
      "Epoch 3/5\n",
      "2244/2244 [==============================] - 320s 143ms/step - loss: 0.0488 - auc: 0.9822 - val_loss: 0.0498 - val_auc: 0.9806\n",
      "Epoch 4/5\n",
      "2244/2244 [==============================] - 322s 143ms/step - loss: 0.0458 - auc: 0.9844 - val_loss: 0.0503 - val_auc: 0.9774\n",
      "Epoch 4: early stopping\n"
     ]
    }
   ],
   "source": [
    "model = utils.train_model(model, X_train, y_train)"
   ]
  },
  {
   "cell_type": "code",
   "execution_count": 5,
   "id": "1472c075",
   "metadata": {},
   "outputs": [
    {
     "name": "stdout",
     "output_type": "stream",
     "text": [
      "63/63 [==============================] - 31s 483ms/step\n",
      "\n",
      "The mean column-wise ROC AUC score for LSTM with GloVe 6B 100D is 0.97572\n"
     ]
    }
   ],
   "source": [
    "utils.calculate_score(model, X_test, y_test)"
   ]
  }
 ],
 "metadata": {
  "kernelspec": {
   "display_name": "Python 3 (ipykernel)",
   "language": "python",
   "name": "python3"
  },
  "language_info": {
   "codemirror_mode": {
    "name": "ipython",
    "version": 3
   },
   "file_extension": ".py",
   "mimetype": "text/x-python",
   "name": "python",
   "nbconvert_exporter": "python",
   "pygments_lexer": "ipython3",
   "version": "3.9.7"
  }
 },
 "nbformat": 4,
 "nbformat_minor": 5
}
