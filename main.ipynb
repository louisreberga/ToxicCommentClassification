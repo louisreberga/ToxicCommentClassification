{
 "cells": [
  {
   "cell_type": "code",
   "execution_count": 1,
   "id": "8e15c086",
   "metadata": {},
   "outputs": [],
   "source": [
    "import os\n",
    "os.environ['TF_CPP_MIN_LOG_LEVEL'] = '3' \n",
    "import warnings\n",
    "warnings.simplefilter(action='ignore')\n",
    "\n",
    "import preprocessing, utils\n",
    "import tensorflow as tf"
   ]
  },
  {
   "cell_type": "code",
   "execution_count": 2,
   "id": "13bcc388",
   "metadata": {},
   "outputs": [],
   "source": [
    "emb_name_dims = ['50D', '100D', '200D', '300D']\n",
    "model_names = ['LSTM', 'bidirectional LSTM']\n",
    "\n",
    "epochs = 5\n",
    "batch_size = 64"
   ]
  },
  {
   "cell_type": "code",
   "execution_count": 3,
   "id": "e8952165",
   "metadata": {},
   "outputs": [],
   "source": [
    "try:\n",
    "    X_train, y_train, X_test, y_test, tokenizer = preprocessing.read_preprocessed_comments()\n",
    "except FileNotFoundError:\n",
    "    X_train, y_train, X_test, y_test, tokenizer = preprocessing.preprocess_comments()"
   ]
  },
  {
   "cell_type": "code",
   "execution_count": 4,
   "id": "7f039903",
   "metadata": {},
   "outputs": [],
   "source": [
    "# PLOTTING THE MODELS\n",
    "\n",
    "# emb_name = 'GloVe 6B 300D'\n",
    "# emb_dim = int(emb_name.split()[-1].replace('D', ''))\n",
    "# emb_matrix = utils.create_embedding_matrix(tokenizer, emb_name, emb_dim)\n",
    "\n",
    "# for model_name in model_names:\n",
    "#     model = utils.define_model(model_name, emb_matrix, emb_dim)\n",
    "#     tf.keras.utils.plot_model(model, to_file=f'models/{model_name}.png', show_shapes=True)"
   ]
  },
  {
   "cell_type": "code",
   "execution_count": null,
   "id": "e45d0d09",
   "metadata": {
    "scrolled": false
   },
   "outputs": [
    {
     "name": "stdout",
     "output_type": "stream",
     "text": [
      "============ GloVe 6B 50D - LSTM ============\n",
      "Epoch 1/5\n",
      "2244/2244 [==============================] - 281s 125ms/step - loss: 0.0773 - auc: 0.9513 - val_loss: 0.0607 - val_auc: 0.9673\n",
      "Epoch 2/5\n",
      "2244/2244 [==============================] - 290s 129ms/step - loss: 0.0579 - auc: 0.9724 - val_loss: 0.0568 - val_auc: 0.9736\n",
      "Epoch 3/5\n",
      "2244/2244 [==============================] - 286s 128ms/step - loss: 0.0535 - auc: 0.9773 - val_loss: 0.0537 - val_auc: 0.9770\n",
      "Epoch 4/5\n",
      "2244/2244 [==============================] - 284s 127ms/step - loss: 0.0508 - auc: 0.9798 - val_loss: 0.0522 - val_auc: 0.9788\n",
      "Epoch 5/5\n",
      "2244/2244 [==============================] - 285s 127ms/step - loss: 0.0484 - auc: 0.9816 - val_loss: 0.0514 - val_auc: 0.9781\n",
      "63/63 [==============================] - 26s 402ms/step\n",
      "\n",
      "The mean column-wise ROC AUC score for LSTM with GloVe 6B 50D is 0.97303 \n",
      "\n",
      "\n",
      "\n",
      "============ GloVe 6B 50D - bidirectional LSTM ============\n",
      "Epoch 1/5\n",
      "2244/2244 [==============================] - 700s 310ms/step - loss: 0.0769 - auc_1: 0.9510 - val_loss: 0.0599 - val_auc_1: 0.9730\n",
      "Epoch 2/5\n",
      "2244/2244 [==============================] - 691s 308ms/step - loss: 0.0577 - auc_1: 0.9726 - val_loss: 0.0569 - val_auc_1: 0.9744\n",
      "Epoch 3/5\n",
      "2244/2244 [==============================] - 692s 308ms/step - loss: 0.0539 - auc_1: 0.9773 - val_loss: 0.0540 - val_auc_1: 0.9809\n",
      "Epoch 4/5\n",
      "1675/2244 [=====================>........] - ETA: 2:55 - loss: 0.0512 - auc_1: 0.9791"
     ]
    }
   ],
   "source": [
    "for emb_name_dim in emb_name_dims:\n",
    "    emb_name = f'GloVe 6B {emb_name_dim}'\n",
    "    emb_dim = int(emb_name.split()[-1].replace('D', ''))\n",
    "    emb_matrix = utils.create_embedding_matrix(tokenizer, emb_name, emb_dim)\n",
    "    \n",
    "    for model_name in model_names:\n",
    "        print(f'============ {emb_name} - {model_name} ============')\n",
    "        model = utils.define_model(model_name, emb_matrix, emb_dim)\n",
    "        model = utils.train_model(model, X_train, y_train, epochs, batch_size)\n",
    "        utils.calculate_score(model, X_test, y_test, model_name, emb_name)"
   ]
  }
 ],
 "metadata": {
  "kernelspec": {
   "display_name": "Python 3 (ipykernel)",
   "language": "python",
   "name": "python3"
  },
  "language_info": {
   "codemirror_mode": {
    "name": "ipython",
    "version": 3
   },
   "file_extension": ".py",
   "mimetype": "text/x-python",
   "name": "python",
   "nbconvert_exporter": "python",
   "pygments_lexer": "ipython3",
   "version": "3.9.7"
  }
 },
 "nbformat": 4,
 "nbformat_minor": 5
}
