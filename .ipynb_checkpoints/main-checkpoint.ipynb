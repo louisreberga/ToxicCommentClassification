{
 "cells": [
  {
   "cell_type": "code",
   "execution_count": null,
   "id": "8e15c086",
   "metadata": {},
   "outputs": [],
   "source": [
    "import os\n",
    "os.environ['TF_CPP_MIN_LOG_LEVEL'] = '3' \n",
    "import warnings\n",
    "warnings.simplefilter(action='ignore')\n",
    "\n",
    "import preprocessing, utils\n",
    "import tensorflow as tf"
   ]
  },
  {
   "cell_type": "code",
   "execution_count": null,
   "id": "13bcc388",
   "metadata": {},
   "outputs": [],
   "source": [
    "emb_name_dims = ['50D', '100D', '200D', '300D']\n",
    "model_names = ['LSTM', 'bidirectional LSTM']\n",
    "\n",
    "epochs = 5\n",
    "batch_size = 64"
   ]
  },
  {
   "cell_type": "code",
   "execution_count": null,
   "id": "e8952165",
   "metadata": {},
   "outputs": [],
   "source": [
    "try:\n",
    "    X_train, y_train, X_test, y_test, tokenizer = preprocessing.read_preprocessed_comments()\n",
    "except FileNotFoundError:\n",
    "    X_train, y_train, X_test, y_test, tokenizer = preprocessing.preprocess_comments()"
   ]
  },
  {
   "cell_type": "code",
   "execution_count": null,
   "id": "e45d0d09",
   "metadata": {
    "scrolled": false
   },
   "outputs": [],
   "source": [
    "for emb_name_dim in emb_name_dims:\n",
    "    emb_name = f'GloVe 6B {emb_name_dim}'\n",
    "    emb_dim = int(emb_name.split()[-1].replace('D', ''))\n",
    "    emb_matrix = utils.create_embedding_matrix(tokenizer, emb_name, emb_dim)\n",
    "    \n",
    "    for model_name in model_names:\n",
    "        print(f'============ {emb_name} - {model_name} ============')\n",
    "        model = utils.define_model(model_name, emb_matrix, emb_dim)\n",
    "        model = utils.train_model(model, X_train, y_train, epochs, batch_size)\n",
    "        utils.calculate_score(model, X_test, y_test, model_name, emb_name)"
   ]
  }
 ],
 "metadata": {
  "kernelspec": {
   "display_name": "Python 3 (ipykernel)",
   "language": "python",
   "name": "python3"
  },
  "language_info": {
   "codemirror_mode": {
    "name": "ipython",
    "version": 3
   },
   "file_extension": ".py",
   "mimetype": "text/x-python",
   "name": "python",
   "nbconvert_exporter": "python",
   "pygments_lexer": "ipython3",
   "version": "3.9.7"
  }
 },
 "nbformat": 4,
 "nbformat_minor": 5
}
