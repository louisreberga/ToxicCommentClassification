{
 "cells": [
  {
   "cell_type": "code",
   "execution_count": 1,
   "id": "7e1efe6e",
   "metadata": {
    "colab": {
     "base_uri": "https://localhost:8080/"
    },
    "id": "7e1efe6e",
    "outputId": "04234cb7-ee49-46d7-d440-7a000c77a8ac"
   },
   "outputs": [
    {
     "name": "stderr",
     "output_type": "stream",
     "text": [
      "[nltk_data] Downloading package stopwords to /home/louis/nltk_data...\n",
      "[nltk_data]   Package stopwords is already up-to-date!\n",
      "2022-03-28 10:00:11.029446: W tensorflow/stream_executor/platform/default/dso_loader.cc:64] Could not load dynamic library 'libcudart.so.11.0'; dlerror: libcudart.so.11.0: cannot open shared object file: No such file or directory\n",
      "2022-03-28 10:00:11.029469: I tensorflow/stream_executor/cuda/cudart_stub.cc:29] Ignore above cudart dlerror if you do not have a GPU set up on your machine.\n"
     ]
    }
   ],
   "source": [
    "import pandas as pd\n",
    "import numpy as np\n",
    "import matplotlib.pyplot as plt\n",
    "plt.style.use('ggplot')\n",
    "import re\n",
    "\n",
    "import nltk.corpus\n",
    "nltk.download('stopwords')\n",
    "from nltk.corpus import stopwords\n",
    "from nltk.tokenize import word_tokenize\n",
    "\n",
    "import multiprocessing\n",
    "from gensim.models import Word2Vec, KeyedVectors\n",
    "\n",
    "from keras.models import Sequential\n",
    "from keras.layers import Embedding, Dense, LSTM, GlobalMaxPool1D, Dropout\n",
    "from keras.preprocessing.text import Tokenizer\n",
    "from keras.preprocessing.sequence import pad_sequences\n",
    "\n",
    "from sklearn.metrics import roc_auc_score, f1_score"
   ]
  },
  {
   "cell_type": "code",
   "execution_count": 2,
   "id": "zLmc1WYeC0Ej",
   "metadata": {
    "id": "zLmc1WYeC0Ej"
   },
   "outputs": [],
   "source": [
    "LABELS = ['toxic', 'severe_toxic', 'obscene', 'threat', 'insult', 'identity_hate']\n",
    "EMBEDDING_DIM = 300"
   ]
  },
  {
   "cell_type": "code",
   "execution_count": 3,
   "id": "2a067c31",
   "metadata": {
    "colab": {
     "base_uri": "https://localhost:8080/",
     "height": 206
    },
    "id": "2a067c31",
    "outputId": "03080eda-d8c3-45f8-f46a-a50c2bfa4581"
   },
   "outputs": [
    {
     "data": {
      "text/html": [
       "<div>\n",
       "<style scoped>\n",
       "    .dataframe tbody tr th:only-of-type {\n",
       "        vertical-align: middle;\n",
       "    }\n",
       "\n",
       "    .dataframe tbody tr th {\n",
       "        vertical-align: top;\n",
       "    }\n",
       "\n",
       "    .dataframe thead th {\n",
       "        text-align: right;\n",
       "    }\n",
       "</style>\n",
       "<table border=\"1\" class=\"dataframe\">\n",
       "  <thead>\n",
       "    <tr style=\"text-align: right;\">\n",
       "      <th></th>\n",
       "      <th>id</th>\n",
       "      <th>comment_text</th>\n",
       "      <th>toxic</th>\n",
       "      <th>severe_toxic</th>\n",
       "      <th>obscene</th>\n",
       "      <th>threat</th>\n",
       "      <th>insult</th>\n",
       "      <th>identity_hate</th>\n",
       "    </tr>\n",
       "  </thead>\n",
       "  <tbody>\n",
       "    <tr>\n",
       "      <th>0</th>\n",
       "      <td>0000997932d777bf</td>\n",
       "      <td>Explanation\\nWhy the edits made under my usern...</td>\n",
       "      <td>0</td>\n",
       "      <td>0</td>\n",
       "      <td>0</td>\n",
       "      <td>0</td>\n",
       "      <td>0</td>\n",
       "      <td>0</td>\n",
       "    </tr>\n",
       "    <tr>\n",
       "      <th>1</th>\n",
       "      <td>000103f0d9cfb60f</td>\n",
       "      <td>D'aww! He matches this background colour I'm s...</td>\n",
       "      <td>0</td>\n",
       "      <td>0</td>\n",
       "      <td>0</td>\n",
       "      <td>0</td>\n",
       "      <td>0</td>\n",
       "      <td>0</td>\n",
       "    </tr>\n",
       "    <tr>\n",
       "      <th>2</th>\n",
       "      <td>000113f07ec002fd</td>\n",
       "      <td>Hey man, I'm really not trying to edit war. It...</td>\n",
       "      <td>0</td>\n",
       "      <td>0</td>\n",
       "      <td>0</td>\n",
       "      <td>0</td>\n",
       "      <td>0</td>\n",
       "      <td>0</td>\n",
       "    </tr>\n",
       "    <tr>\n",
       "      <th>3</th>\n",
       "      <td>0001b41b1c6bb37e</td>\n",
       "      <td>\"\\nMore\\nI can't make any real suggestions on ...</td>\n",
       "      <td>0</td>\n",
       "      <td>0</td>\n",
       "      <td>0</td>\n",
       "      <td>0</td>\n",
       "      <td>0</td>\n",
       "      <td>0</td>\n",
       "    </tr>\n",
       "    <tr>\n",
       "      <th>4</th>\n",
       "      <td>0001d958c54c6e35</td>\n",
       "      <td>You, sir, are my hero. Any chance you remember...</td>\n",
       "      <td>0</td>\n",
       "      <td>0</td>\n",
       "      <td>0</td>\n",
       "      <td>0</td>\n",
       "      <td>0</td>\n",
       "      <td>0</td>\n",
       "    </tr>\n",
       "  </tbody>\n",
       "</table>\n",
       "</div>"
      ],
      "text/plain": [
       "                 id                                       comment_text  toxic  \\\n",
       "0  0000997932d777bf  Explanation\\nWhy the edits made under my usern...      0   \n",
       "1  000103f0d9cfb60f  D'aww! He matches this background colour I'm s...      0   \n",
       "2  000113f07ec002fd  Hey man, I'm really not trying to edit war. It...      0   \n",
       "3  0001b41b1c6bb37e  \"\\nMore\\nI can't make any real suggestions on ...      0   \n",
       "4  0001d958c54c6e35  You, sir, are my hero. Any chance you remember...      0   \n",
       "\n",
       "   severe_toxic  obscene  threat  insult  identity_hate  \n",
       "0             0        0       0       0              0  \n",
       "1             0        0       0       0              0  \n",
       "2             0        0       0       0              0  \n",
       "3             0        0       0       0              0  \n",
       "4             0        0       0       0              0  "
      ]
     },
     "execution_count": 3,
     "metadata": {},
     "output_type": "execute_result"
    }
   ],
   "source": [
    "train_df = pd.read_csv('data/train.csv.zip')\n",
    "train_df.head()"
   ]
  },
  {
   "cell_type": "code",
   "execution_count": 4,
   "id": "7e0a3451",
   "metadata": {
    "id": "7e0a3451"
   },
   "outputs": [],
   "source": [
    "# CLEANING FUNCTIONS\n",
    "\n",
    "STOP_WORD = stopwords.words('english')\n",
    "\n",
    "def clean_comment(comment):\n",
    "    comment = comment.lower()\n",
    "    comment = remove_special_chars(comment)\n",
    "    comment = remove_stop_words(comment)\n",
    "    \n",
    "    return comment\n",
    "\n",
    "\n",
    "def remove_special_chars(comment):\n",
    "    comment = re.sub(\"(\\\\W)\",\" \", comment).strip()\n",
    "    comment = re.sub('\\S*\\d\\S*\\s*','', comment).strip()\n",
    "    comment = re.sub(' +', ' ', comment)\n",
    "    \n",
    "    return comment\n",
    "\n",
    "\n",
    "def remove_stop_words(comment):\n",
    "    comment = \" \".join([word for word in comment.split() if word not in STOP_WORD])\n",
    "    \n",
    "    return comment "
   ]
  },
  {
   "cell_type": "code",
   "execution_count": 5,
   "id": "34bd050a",
   "metadata": {
    "id": "34bd050a"
   },
   "outputs": [],
   "source": [
    "### INIT TRAIN ###\n",
    "train_df['comment_text'] = train_df['comment_text'].apply(clean_comment)\n",
    "list_comment_train = list(train_df['comment_text'])"
   ]
  },
  {
   "cell_type": "code",
   "execution_count": 6,
   "id": "rNyjls__l7yd",
   "metadata": {
    "id": "rNyjls__l7yd"
   },
   "outputs": [],
   "source": [
    "# tokenizer\n",
    "tokenizer = Tokenizer()\n",
    "tokenizer.fit_on_texts(list_comment_train)\n",
    "encoded_comment_train = tokenizer.texts_to_sequences(list_comment_train)"
   ]
  },
  {
   "cell_type": "code",
   "execution_count": 7,
   "id": "5T6qeZQDcPpY",
   "metadata": {
    "colab": {
     "base_uri": "https://localhost:8080/",
     "height": 265
    },
    "id": "5T6qeZQDcPpY",
    "outputId": "6a9928ea-7be8-44d2-dd5d-32a8e9ddfd3e"
   },
   "outputs": [
    {
     "data": {
      "image/png": "[encoded data removed]",
      "text/plain": [
       "<Figure size 432x288 with 1 Axes>"
      ]
     },
     "metadata": {},
     "output_type": "display_data"
    }
   ],
   "source": [
    "total_num_words = [len(comment) for comment in list_comment_train]\n",
    "plt.hist(total_num_words, bins=np.arange(0, 1010, 10))\n",
    "plt.show()"
   ]
  },
  {
   "cell_type": "code",
   "execution_count": 8,
   "id": "rjpYKUEVcLii",
   "metadata": {
    "id": "rjpYKUEVcLii"
   },
   "outputs": [],
   "source": [
    "# padding\n",
    "MAX_LENGTH = 400\n",
    "VOCAB_SIZE = len(tokenizer.word_index) + 1\n",
    "X_train = pad_sequences(encoded_comment_train, maxlen=MAX_LENGTH, padding='post')"
   ]
  },
  {
   "cell_type": "code",
   "execution_count": 9,
   "id": "JOhJOYyvcNXn",
   "metadata": {
    "id": "JOhJOYyvcNXn"
   },
   "outputs": [],
   "source": [
    "### INIT TEST ###\n",
    "test_df = pd.read_csv('data/test.csv.zip')\n",
    "test_df['comment_text'] = train_df['comment_text'].apply(clean_comment)\n",
    "list_comment_test = list(test_df['comment_text'])\n",
    "\n",
    "encoded_comment_test = tokenizer.texts_to_sequences(list_comment_test)\n",
    "X_test = pad_sequences(encoded_comment_test, maxlen=MAX_LENGTH, padding='post')"
   ]
  },
  {
   "cell_type": "code",
   "execution_count": 10,
   "id": "xnIqrNAttXvK",
   "metadata": {
    "id": "xnIqrNAttXvK"
   },
   "outputs": [],
   "source": [
    "word2vec_model = KeyedVectors.load_word2vec_format('embeddings/GoogleNews-vectors-negative300.bin', binary=True)"
   ]
  },
  {
   "cell_type": "code",
   "execution_count": 14,
   "id": "ddb31acb",
   "metadata": {},
   "outputs": [
    {
     "data": {
      "text/plain": [
       "300"
      ]
     },
     "execution_count": 14,
     "metadata": {},
     "output_type": "execute_result"
    }
   ],
   "source": [
    "word2vec_model[0].size"
   ]
  },
  {
   "cell_type": "code",
   "execution_count": 12,
   "id": "tushlBJ4taVC",
   "metadata": {
    "id": "tushlBJ4taVC"
   },
   "outputs": [],
   "source": [
    "word2vec_matrix = np.zeros((VOCAB_SIZE, EMBEDDING_DIM))\n",
    "words = tokenizer.word_index\n",
    "\n",
    "for word in words:\n",
    "    index = words[word]\n",
    "\n",
    "    try:\n",
    "        vector = word2vec_model[word]\n",
    "        word2vec_matrix[index] = vector\n",
    "    except:\n",
    "        pass"
   ]
  },
  {
   "cell_type": "code",
   "execution_count": null,
   "id": "d15c11ad",
   "metadata": {
    "id": "d15c11ad"
   },
   "outputs": [],
   "source": [
    "def create_model():\n",
    "    model = Sequential()\n",
    "    model.add(Embedding(VOCAB_SIZE, EMBEDDING_DIM, weights=[word2vec_matrix], input_length=MAX_LENGTH, trainable=False))\n",
    "    model.add(LSTM(60, return_sequences=True))\n",
    "    model.add(GlobalMaxPool1D())\n",
    "    model.add(Dropout(0.1))\n",
    "    model.add(Dense(50, activation=\"relu\"))\n",
    "    model.add(Dropout(0.1))\n",
    "    model.add(Dense(6, activation=\"sigmoid\"))\n",
    "\n",
    "    return model\n",
    "\n",
    "\n",
    "def train_model(model, X_train, y_train):\n",
    "    model.compile(loss='binary_crossentropy', optimizer='adam', metrics=['accuracy'])\n",
    "    history = model.fit(X_train, y_train, epochs=2, validation_split=0.1, batch_size=64, verbose=1)\n",
    "\n",
    "    return model, history"
   ]
  },
  {
   "cell_type": "code",
   "execution_count": null,
   "id": "VhbxTiNBJe6y",
   "metadata": {
    "colab": {
     "base_uri": "https://localhost:8080/"
    },
    "id": "VhbxTiNBJe6y",
    "outputId": "005614ad-a894-4efd-b752-68fc9f289c72"
   },
   "outputs": [],
   "source": [
    "model = create_model()\n",
    "model.summary()"
   ]
  },
  {
   "cell_type": "code",
   "execution_count": null,
   "id": "10d231a5",
   "metadata": {
    "colab": {
     "base_uri": "https://localhost:8080/"
    },
    "id": "10d231a5",
    "outputId": "cca3916a-1823-4596-9c87-0f43a3ec47e2",
    "scrolled": true
   },
   "outputs": [],
   "source": [
    "y_train = train_df[LABELS]\n",
    "\n",
    "model, history = train_model(model, X_train, y_train)"
   ]
  },
  {
   "cell_type": "code",
   "execution_count": null,
   "id": "39f58396",
   "metadata": {},
   "outputs": [],
   "source": [
    "y_test = model.predict([X_test], batch_size=1024, verbose=1)\n",
    "sample_submission = pd.read_csv(f'data/sample_submission.csv.zip')\n",
    "sample_submission[list_classes] = y_test\n",
    "sample_submission.to_csv(f'submission_LSTM_word2vec.csv', index=False)"
   ]
  }
 ],
 "metadata": {
  "accelerator": "GPU",
  "colab": {
   "collapsed_sections": [],
   "name": "word2vec.ipynb",
   "provenance": []
  },
  "kernelspec": {
   "display_name": "Python 3 (ipykernel)",
   "language": "python",
   "name": "python3"
  },
  "language_info": {
   "codemirror_mode": {
    "name": "ipython",
    "version": 3
   },
   "file_extension": ".py",
   "mimetype": "text/x-python",
   "name": "python",
   "nbconvert_exporter": "python",
   "pygments_lexer": "ipython3",
   "version": "3.9.7"
  }
 },
 "nbformat": 4,
 "nbformat_minor": 5
}
